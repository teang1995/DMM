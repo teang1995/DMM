{
 "cells": [
  {
   "cell_type": "markdown",
   "metadata": {},
   "source": [
    "## Load Dataset"
   ]
  },
  {
   "cell_type": "code",
   "execution_count": 1,
   "metadata": {},
   "outputs": [],
   "source": [
    "import os\n",
    "import re\n",
    "import pandas as pd\n",
    "import numpy as np\n",
    "import matplotlib.pyplot as plt"
   ]
  },
  {
   "cell_type": "code",
   "execution_count": 2,
   "metadata": {},
   "outputs": [],
   "source": [
    "TASK_PATH='/disk/changdae/gmc/gmc_code/unsupervised/results/'\n",
    "LOG_NAME='0802_lrwd.txt'"
   ]
  },
  {
   "cell_type": "code",
   "execution_count": 3,
   "metadata": {},
   "outputs": [],
   "source": [
    "def make_csv(task_path, log_name, outname):\n",
    "    task = task_path.split('/')[-3]\n",
    "    df = pd.read_csv(task_path+log_name, names=['temp'], sep='\\t')\n",
    "    df.temp = df.temp.str.replace(',\\s','&')\n",
    "    if task == 'unsupervised':\n",
    "        df_refine = pd.DataFrame(df.temp.str.split(',').tolist(), columns=['method','seed','modal','acc'])\n",
    "        df_refine.seed = df_refine.seed.astype('int')\n",
    "        df_refine.acc = df_refine.acc.astype('float')\n",
    "        df_refine.groupby(by=['method','modal']).mean()['acc'].to_csv(outname+'.csv')\n",
    "        #df_refine.sort_values(by='acc', ascending=False).to_csv(outname+'.csv')\n",
    "    else:\n",
    "        df_refine = pd.DataFrame(df.temp.str.split(',').tolist(), columns=['method','seed','modal','mae','cor','f1','acc'])\n",
    "        df_refine.seed = df_refine.seed.astype('int')\n",
    "        df_refine.mae = df_refine.mae.astype('float')\n",
    "        df_refine.cor = df_refine.cor.astype('float')\n",
    "        df_refine.f1 = df_refine.f1.astype('float')\n",
    "        df_refine.acc = df_refine.acc.astype('float')\n",
    "        df_refine.to_csv(outname+'.csv')\n",
    "        #df_refine.groupby(by=['method','modal']).mean().to_csv(outname+'.csv')"
   ]
  },
  {
   "cell_type": "code",
   "execution_count": 64,
   "metadata": {},
   "outputs": [
    {
     "name": "stderr",
     "output_type": "stream",
     "text": [
      "/tmp/ipykernel_3521612/701661948.py:4: FutureWarning: The default value of regex will change from True to False in a future version.\n",
      "  df.temp = df.temp.str.replace(',\\s','&')\n"
     ]
    }
   ],
   "source": [
    "make_csv(TASK_PATH, '0802_no_label.txt', '0802_nol.csv')"
   ]
  },
  {
   "cell_type": "code",
   "execution_count": 4,
   "metadata": {},
   "outputs": [
    {
     "name": "stderr",
     "output_type": "stream",
     "text": [
      "/tmp/ipykernel_2823251/893608665.py:4: FutureWarning: The default value of regex will change from True to False in a future version.\n",
      "  df.temp = df.temp.str.replace(',\\s','&')\n"
     ]
    }
   ],
   "source": [
    "make_csv(TASK_PATH, '0803_no_label.txt', '0803_nol.csv')"
   ]
  },
  {
   "cell_type": "code",
   "execution_count": 65,
   "metadata": {},
   "outputs": [
    {
     "name": "stderr",
     "output_type": "stream",
     "text": [
      "/tmp/ipykernel_3521612/701661948.py:4: FutureWarning: The default value of regex will change from True to False in a future version.\n",
      "  df.temp = df.temp.str.replace(',\\s','&')\n"
     ]
    }
   ],
   "source": [
    "make_csv(TASK_PATH, '0802_label.txt', '0802_l.csv')"
   ]
  },
  {
   "cell_type": "code",
   "execution_count": 6,
   "metadata": {},
   "outputs": [
    {
     "name": "stderr",
     "output_type": "stream",
     "text": [
      "/tmp/ipykernel_2871678/893608665.py:4: FutureWarning: The default value of regex will change from True to False in a future version.\n",
      "  df.temp = df.temp.str.replace(',\\s','&')\n"
     ]
    }
   ],
   "source": [
    "TASK_PATH='/disk/changdae/gmc/gmc_code/supervised/results/'\n",
    "make_csv(TASK_PATH, '0802_supervised_gmc.txt', '0803_sup.csv')"
   ]
  },
  {
   "cell_type": "code",
   "execution_count": null,
   "metadata": {},
   "outputs": [],
   "source": []
  }
 ],
 "metadata": {
  "kernelspec": {
   "display_name": "Python 3.9.7 ('chang')",
   "language": "python",
   "name": "python3"
  },
  "language_info": {
   "codemirror_mode": {
    "name": "ipython",
    "version": 3
   },
   "file_extension": ".py",
   "mimetype": "text/x-python",
   "name": "python",
   "nbconvert_exporter": "python",
   "pygments_lexer": "ipython3",
   "version": "3.9.7"
  },
  "vscode": {
   "interpreter": {
    "hash": "8b65f0a2caab02b8c00c2e9fc952daf29a52e22b10726b8d60fc07eefcd642fe"
   }
  }
 },
 "nbformat": 4,
 "nbformat_minor": 4
}
